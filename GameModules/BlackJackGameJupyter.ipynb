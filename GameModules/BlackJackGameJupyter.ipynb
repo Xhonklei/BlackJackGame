{
 "cells": [
  {
   "cell_type": "code",
   "execution_count": 1,
   "id": "5a2efd42",
   "metadata": {},
   "outputs": [],
   "source": [
    "from deck_class import Deck\n",
    "from player_class import Player\n",
    "from dealer_class import Dealer\n",
    "import time \n",
    "from IPython.display import clear_output\n",
    "from initiatePlayers import initiate_players\n",
    "from playerSituation import player_situation\n",
    "from dealerOn import dealer_on\n",
    "from ContinueDecision import continue_decision"
   ]
  },
  {
   "cell_type": "code",
   "execution_count": null,
   "id": "54174143",
   "metadata": {},
   "outputs": [],
   "source": [
    "# Create the deck, dealer and players of the game.\n",
    "deck_of_game = Deck()\n",
    "deck_of_game.shuffle_deck()\n",
    "game_dealer = Dealer()\n",
    "players = initiate_players()"
   ]
  },
  {
   "cell_type": "code",
   "execution_count": 5,
   "id": "36c803cd",
   "metadata": {},
   "outputs": [
    {
     "name": "stdout",
     "output_type": "stream",
     "text": [
      "There is no player on the table!\n",
      "GAME OVER!\n"
     ]
    }
   ],
   "source": [
    "# For as long as there are players on the game\n",
    "while len(players) !=0:\n",
    "    i = 0\n",
    "    j = 0\n",
    "    played_cards = []\n",
    "    # Each player palces his bet\n",
    "    while i < len(players):\n",
    "        players[i].set_bet()\n",
    "        i += 1\n",
    "\n",
    "    #Draw 2 cards for each player and for the dealer\n",
    "    for j in range(2):\n",
    "        for player in players:\n",
    "            player.draw_card(deck_of_game.deal_one())\n",
    "        game_dealer.draw_card(deck_of_game.deal_one())\n",
    "    \n",
    "    # print('After each player and dealer got 2 cards, the situation is:\\n')\n",
    "    # for player in players:\n",
    "    #     player.print_cards()\n",
    "    print(f'\\nFirst card of the dealer is:\\n{game_dealer.dealer_cards[0]}')\n",
    "\n",
    "    # See who profits this round:\n",
    "    round_players = players.copy() # Players of the actual round\n",
    "    i = 0\n",
    "    while i < len(round_players):\n",
    "        round_players[i].print_cards()\n",
    "        player_out = False\n",
    "        player_out, played_cards = player_situation(round_players[i],deck_of_game,played_cards)\n",
    "        if player_out == True:\n",
    "            round_players.pop(i)\n",
    "        else:\n",
    "            i += 1\n",
    "    \n",
    "    # If there are still players left on the round, dealer enters the game.\n",
    "    if len(round_players) != 0:\n",
    "        print('\\n')\n",
    "        game_dealer.print_cards()\n",
    "        # The whole logic of the dealer entering the game is implemented here!\n",
    "        played_cards = dealer_on(game_dealer, round_players, deck_of_game, played_cards)\n",
    "    \n",
    "    #Return played cards back in the deck and shuffle it.\n",
    "    played_cards += game_dealer.return_cards()\n",
    "    deck_of_game.add_cards(played_cards)\n",
    "    deck_of_game.shuffle_deck()\n",
    "    print(len(deck_of_game))\n",
    "\n",
    "    # Ask players if they want to play or not.\n",
    "    players = continue_decision(players)\n",
    "\n",
    "    print('\\nA new round is about to start...')\n",
    "    time.sleep(5)\n",
    "    clear_output()\n",
    "\n",
    "\n",
    "print('There is no player on the table!')\n",
    "print('GAME OVER!')\n",
    "\n"
   ]
  }
 ],
 "metadata": {
  "kernelspec": {
   "display_name": "base",
   "language": "python",
   "name": "python3"
  },
  "language_info": {
   "codemirror_mode": {
    "name": "ipython",
    "version": 3
   },
   "file_extension": ".py",
   "mimetype": "text/x-python",
   "name": "python",
   "nbconvert_exporter": "python",
   "pygments_lexer": "ipython3",
   "version": "3.12.9"
  }
 },
 "nbformat": 4,
 "nbformat_minor": 5
}
